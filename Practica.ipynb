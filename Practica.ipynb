{
 "cells": [
  {
   "cell_type": "code",
   "execution_count": 2,
   "id": "20d31cdc-88c8-43cc-88a2-bda386080ce8",
   "metadata": {},
   "outputs": [],
   "source": [
    "import pandas as pd"
   ]
  },
  {
   "cell_type": "code",
   "execution_count": 7,
   "id": "d3b5cf64-6496-4a88-91c4-c63f933cf7b4",
   "metadata": {},
   "outputs": [
    {
     "data": {
      "text/plain": [
       "<bound method NDFrame.head of         DEPARTAMENTO          MUNICIPIO CODIGO DANE  \\\n",
       "0          ATLÁNTICO  BARRANQUILLA (CT)     8001000   \n",
       "1             BOYACÁ            DUITAMA    15238000   \n",
       "2            CAQUETÁ        PUERTO RICO    18592000   \n",
       "3           CASANARE               MANÍ    85139000   \n",
       "4       CUNDINAMARCA   BOGOTÁ D.C. (CT)    11001000   \n",
       "...              ...                ...         ...   \n",
       "476965       VICHADA      SANTA ROSALÍA    99624000   \n",
       "476966       VICHADA      SANTA ROSALÍA    99624000   \n",
       "476967       VICHADA      SANTA ROSALÍA    99624000   \n",
       "476968  CUNDINAMARCA              TAUSA    25793000   \n",
       "476969  CUNDINAMARCA          ZIPAQUIRÁ    25899000   \n",
       "\n",
       "                       ARMAS MEDIOS FECHA HECHO     GENERO GRUPO ETARIO  \\\n",
       "0       ARMA BLANCA / CORTOPUNZANTE   1/01/2010  MASCULINO      ADULTOS   \n",
       "1       ARMA BLANCA / CORTOPUNZANTE   1/01/2010   FEMENINO      ADULTOS   \n",
       "2       ARMA BLANCA / CORTOPUNZANTE   1/01/2010  MASCULINO      ADULTOS   \n",
       "3       ARMA BLANCA / CORTOPUNZANTE   1/01/2010   FEMENINO      ADULTOS   \n",
       "4       ARMA BLANCA / CORTOPUNZANTE   1/01/2010   FEMENINO      ADULTOS   \n",
       "...                             ...         ...        ...          ...   \n",
       "476965          SIN EMPLEO DE ARMAS       44250   FEMENINO      MENORES   \n",
       "476966          SIN EMPLEO DE ARMAS       44262   FEMENINO      ADULTOS   \n",
       "476967          SIN EMPLEO DE ARMAS       44300   FEMENINO      ADULTOS   \n",
       "476968                          NaN       44294   FEMENINO      ADULTOS   \n",
       "476969                          NaN       44245   FEMENINO      ADULTOS   \n",
       "\n",
       "        CANTIDAD  \n",
       "0              1  \n",
       "1              1  \n",
       "2              1  \n",
       "3              1  \n",
       "4              1  \n",
       "...          ...  \n",
       "476965         1  \n",
       "476966         1  \n",
       "476967         1  \n",
       "476968         1  \n",
       "476969         1  \n",
       "\n",
       "[476970 rows x 8 columns]>"
      ]
     },
     "execution_count": 7,
     "metadata": {},
     "output_type": "execute_result"
    }
   ],
   "source": [
    "archivo.head"
   ]
  },
  {
   "cell_type": "code",
   "execution_count": null,
   "id": "7085bac7-fc99-4cfc-95ea-f94acfc9a686",
   "metadata": {},
   "outputs": [],
   "source": [
    "# forma del Datasets"
   ]
  },
  {
   "cell_type": "code",
   "execution_count": 8,
   "id": "27819714-b4ac-4a0e-90d5-d04296292274",
   "metadata": {},
   "outputs": [
    {
     "name": "stdout",
     "output_type": "stream",
     "text": [
      "shape/forma: (476970, 8)\n"
     ]
    }
   ],
   "source": [
    "print(\"shape/forma:\", archivo.shape)"
   ]
  },
  {
   "cell_type": "code",
   "execution_count": null,
   "id": "468ba995-b86b-453f-8714-c7f8622e8b07",
   "metadata": {},
   "outputs": [],
   "source": [
    "# informacion de como esta construido el Datasets"
   ]
  },
  {
   "cell_type": "code",
   "execution_count": 9,
   "id": "b3939999-c678-47f7-940d-d2cbcba3cc0c",
   "metadata": {},
   "outputs": [
    {
     "name": "stdout",
     "output_type": "stream",
     "text": [
      "<class 'pandas.core.frame.DataFrame'>\n",
      "RangeIndex: 476970 entries, 0 to 476969\n",
      "Data columns (total 8 columns):\n",
      " #   Column        Non-Null Count   Dtype \n",
      "---  ------        --------------   ----- \n",
      " 0   DEPARTAMENTO  476970 non-null  object\n",
      " 1   MUNICIPIO     476970 non-null  object\n",
      " 2   CODIGO DANE   476970 non-null  object\n",
      " 3   ARMAS MEDIOS  476968 non-null  object\n",
      " 4   FECHA HECHO   476970 non-null  object\n",
      " 5   GENERO        476967 non-null  object\n",
      " 6   GRUPO ETARIO  475355 non-null  object\n",
      " 7   CANTIDAD      476970 non-null  int64 \n",
      "dtypes: int64(1), object(7)\n",
      "memory usage: 29.1+ MB\n"
     ]
    }
   ],
   "source": [
    "archivo.info()"
   ]
  },
  {
   "cell_type": "code",
   "execution_count": null,
   "id": "8392b65f-c97d-448b-81b7-ff9f90aec8d6",
   "metadata": {},
   "outputs": [],
   "source": [
    "# estadisticas descriptivas"
   ]
  },
  {
   "cell_type": "code",
   "execution_count": 12,
   "id": "5e564962-023b-46a3-9e76-23a24ea5025c",
   "metadata": {},
   "outputs": [
    {
     "data": {
      "text/html": [
       "<div>\n",
       "<style scoped>\n",
       "    .dataframe tbody tr th:only-of-type {\n",
       "        vertical-align: middle;\n",
       "    }\n",
       "\n",
       "    .dataframe tbody tr th {\n",
       "        vertical-align: top;\n",
       "    }\n",
       "\n",
       "    .dataframe thead th {\n",
       "        text-align: right;\n",
       "    }\n",
       "</style>\n",
       "<table border=\"1\" class=\"dataframe\">\n",
       "  <thead>\n",
       "    <tr style=\"text-align: right;\">\n",
       "      <th></th>\n",
       "      <th>CANTIDAD</th>\n",
       "    </tr>\n",
       "  </thead>\n",
       "  <tbody>\n",
       "    <tr>\n",
       "      <th>count</th>\n",
       "      <td>476970.000000</td>\n",
       "    </tr>\n",
       "    <tr>\n",
       "      <th>mean</th>\n",
       "      <td>1.707764</td>\n",
       "    </tr>\n",
       "    <tr>\n",
       "      <th>std</th>\n",
       "      <td>3.338647</td>\n",
       "    </tr>\n",
       "    <tr>\n",
       "      <th>min</th>\n",
       "      <td>1.000000</td>\n",
       "    </tr>\n",
       "    <tr>\n",
       "      <th>25%</th>\n",
       "      <td>1.000000</td>\n",
       "    </tr>\n",
       "    <tr>\n",
       "      <th>50%</th>\n",
       "      <td>1.000000</td>\n",
       "    </tr>\n",
       "    <tr>\n",
       "      <th>75%</th>\n",
       "      <td>1.000000</td>\n",
       "    </tr>\n",
       "    <tr>\n",
       "      <th>max</th>\n",
       "      <td>130.000000</td>\n",
       "    </tr>\n",
       "  </tbody>\n",
       "</table>\n",
       "</div>"
      ],
      "text/plain": [
       "            CANTIDAD\n",
       "count  476970.000000\n",
       "mean        1.707764\n",
       "std         3.338647\n",
       "min         1.000000\n",
       "25%         1.000000\n",
       "50%         1.000000\n",
       "75%         1.000000\n",
       "max       130.000000"
      ]
     },
     "execution_count": 12,
     "metadata": {},
     "output_type": "execute_result"
    }
   ],
   "source": [
    "archivo.describe()"
   ]
  },
  {
   "cell_type": "code",
   "execution_count": 13,
   "id": "98647034-2ec0-4bca-ab36-26f6b0914c90",
   "metadata": {},
   "outputs": [
    {
     "name": "stdout",
     "output_type": "stream",
     "text": [
      "<class 'pandas.core.frame.DataFrame'>\n",
      "RangeIndex: 476970 entries, 0 to 476969\n",
      "Data columns (total 8 columns):\n",
      " #   Column        Non-Null Count   Dtype \n",
      "---  ------        --------------   ----- \n",
      " 0   DEPARTAMENTO  476970 non-null  object\n",
      " 1   MUNICIPIO     476970 non-null  object\n",
      " 2   CODIGO DANE   476970 non-null  object\n",
      " 3   ARMAS MEDIOS  476968 non-null  object\n",
      " 4   FECHA HECHO   476970 non-null  object\n",
      " 5   GENERO        476967 non-null  object\n",
      " 6   GRUPO ETARIO  475355 non-null  object\n",
      " 7   CANTIDAD      476970 non-null  int64 \n",
      "dtypes: int64(1), object(7)\n",
      "memory usage: 29.1+ MB\n"
     ]
    }
   ],
   "source": [
    "archivo.info()"
   ]
  },
  {
   "cell_type": "code",
   "execution_count": null,
   "id": "f62d65c6-10c1-4689-8095-9c0e412977bf",
   "metadata": {},
   "outputs": [],
   "source": [
    "# Convertir la columna de fecha a formato datetime"
   ]
  },
  {
   "cell_type": "code",
   "execution_count": 26,
   "id": "85da58eb-1072-442f-b6ee-38106eeaedf0",
   "metadata": {},
   "outputs": [],
   "source": [
    "df['FECHA HECHO'] = pd.to_datetime(df['FECHA HECHO'], errors='coerce')"
   ]
  },
  {
   "cell_type": "code",
   "execution_count": null,
   "id": "35909266-12ed-4964-b3d3-2a67b34cf792",
   "metadata": {},
   "outputs": [],
   "source": [
    "# Filtrar por departamento y año"
   ]
  },
  {
   "cell_type": "code",
   "execution_count": 27,
   "id": "09bd85ad-fcc1-4d72-9732-2c8aec55c075",
   "metadata": {},
   "outputs": [],
   "source": [
    "df_bogota_2023 = df[(df['DEPARTAMENTO'] == 'Bogotá') & (df['FECHA HECHO'].dt.year == 2023)]"
   ]
  },
  {
   "cell_type": "code",
   "execution_count": null,
   "id": "33a7112b-c26a-42a0-90af-59b18240d2cb",
   "metadata": {},
   "outputs": [],
   "source": [
    "# nuevo datasets"
   ]
  },
  {
   "cell_type": "code",
   "execution_count": 28,
   "id": "c02cbbd5-8c47-43af-9c48-91fa21516df6",
   "metadata": {},
   "outputs": [],
   "source": [
    "df_bogota_2023.to_csv('violencia_intrafamiliar_bogota_2023.csv', index=False)"
   ]
  },
  {
   "cell_type": "code",
   "execution_count": null,
   "id": "3a144f2c-9c2e-40e7-81d4-d363f1c02027",
   "metadata": {},
   "outputs": [],
   "source": [
    " # resultado"
   ]
  },
  {
   "cell_type": "code",
   "execution_count": 29,
   "id": "14fa5a5b-69a0-4e62-b237-efaf74bbad3c",
   "metadata": {},
   "outputs": [
    {
     "name": "stdout",
     "output_type": "stream",
     "text": [
      "Empty DataFrame\n",
      "Columns: [DEPARTAMENTO, MUNICIPIO, CODIGO DANE, ARMAS MEDIOS, FECHA HECHO, GENERO, GRUPO ETARIO, CANTIDAD]\n",
      "Index: []\n"
     ]
    }
   ],
   "source": [
    "print(df_bogota_2023.head())"
   ]
  },
  {
   "cell_type": "code",
   "execution_count": 31,
   "id": "52003db2-2f3f-4247-97f7-ce52354f7504",
   "metadata": {},
   "outputs": [
    {
     "name": "stdout",
     "output_type": "stream",
     "text": [
      "<class 'pandas.core.frame.DataFrame'>\n",
      "Index: 0 entries\n",
      "Data columns (total 8 columns):\n",
      " #   Column        Non-Null Count  Dtype         \n",
      "---  ------        --------------  -----         \n",
      " 0   DEPARTAMENTO  0 non-null      object        \n",
      " 1   MUNICIPIO     0 non-null      object        \n",
      " 2   CODIGO DANE   0 non-null      object        \n",
      " 3   ARMAS MEDIOS  0 non-null      object        \n",
      " 4   FECHA HECHO   0 non-null      datetime64[ns]\n",
      " 5   GENERO        0 non-null      object        \n",
      " 6   GRUPO ETARIO  0 non-null      object        \n",
      " 7   CANTIDAD      0 non-null      int64         \n",
      "dtypes: datetime64[ns](1), int64(1), object(6)\n",
      "memory usage: 0.0+ bytes\n",
      "None\n",
      "       DEPARTAMENTO MUNICIPIO CODIGO DANE ARMAS MEDIOS FECHA HECHO GENERO  \\\n",
      "count             0         0           0            0           0      0   \n",
      "unique            0         0           0            0         NaN      0   \n",
      "top             NaN       NaN         NaN          NaN         NaN    NaN   \n",
      "freq            NaN       NaN         NaN          NaN         NaN    NaN   \n",
      "mean            NaN       NaN         NaN          NaN         NaT    NaN   \n",
      "min             NaN       NaN         NaN          NaN         NaT    NaN   \n",
      "25%             NaN       NaN         NaN          NaN         NaT    NaN   \n",
      "50%             NaN       NaN         NaN          NaN         NaT    NaN   \n",
      "75%             NaN       NaN         NaN          NaN         NaT    NaN   \n",
      "max             NaN       NaN         NaN          NaN         NaT    NaN   \n",
      "std             NaN       NaN         NaN          NaN         NaN    NaN   \n",
      "\n",
      "       GRUPO ETARIO  CANTIDAD  \n",
      "count             0       0.0  \n",
      "unique            0       NaN  \n",
      "top             NaN       NaN  \n",
      "freq            NaN       NaN  \n",
      "mean            NaN       NaN  \n",
      "min             NaN       NaN  \n",
      "25%             NaN       NaN  \n",
      "50%             NaN       NaN  \n",
      "75%             NaN       NaN  \n",
      "max             NaN       NaN  \n",
      "std             NaN       NaN  \n"
     ]
    }
   ],
   "source": [
    "print(df_bogota_2023.info())\n",
    "print(df_bogota_2023.describe(include='all'))"
   ]
  },
  {
   "cell_type": "code",
   "execution_count": 35,
   "id": "14669cff-f1a2-4a11-83a1-7d292541ece9",
   "metadata": {},
   "outputs": [
    {
     "name": "stderr",
     "output_type": "stream",
     "text": [
      "C:\\Users\\T\\AppData\\Local\\Temp\\ipykernel_5888\\971695074.py:1: UserWarning: Pandas doesn't allow columns to be created via a new attribute name - see https://pandas.pydata.org/pandas-docs/stable/indexing.html#attribute-access\n",
      "  df.ordenado = df.sort_values(by=\"CANTIDAD\", ascending=False)\n"
     ]
    }
   ],
   "source": [
    "df.ordenado = df.sort_values(by=\"CANTIDAD\", ascending=False)"
   ]
  },
  {
   "cell_type": "code",
   "execution_count": 42,
   "id": "273c5adc-bb8f-4880-b1a9-29547f9780f8",
   "metadata": {},
   "outputs": [
    {
     "name": "stdout",
     "output_type": "stream",
     "text": [
      "   DEPARTAMENTO         MUNICIPIO CODIGO DANE  ARMAS MEDIOS FECHA HECHO  \\\n",
      "0  CUNDINAMARCA  BOGOTÁ D.C. (CT)    11001000  NO REPORTADO  2019-01-09   \n",
      "1  CUNDINAMARCA  BOGOTÁ D.C. (CT)    11001000  NO REPORTADO         NaN   \n",
      "2  CUNDINAMARCA  BOGOTÁ D.C. (CT)    11001000  NO REPORTADO         NaN   \n",
      "3  CUNDINAMARCA  BOGOTÁ D.C. (CT)    11001000  NO REPORTADO         NaN   \n",
      "4  CUNDINAMARCA  BOGOTÁ D.C. (CT)    11001000  NO REPORTADO  2019-08-12   \n",
      "\n",
      "     GENERO GRUPO ETARIO  CANTIDAD  \n",
      "0  FEMENINO      ADULTOS       130  \n",
      "1  FEMENINO      ADULTOS       118  \n",
      "2  FEMENINO      ADULTOS       109  \n",
      "3  FEMENINO      ADULTOS       107  \n",
      "4  FEMENINO      ADULTOS       106  \n"
     ]
    },
    {
     "name": "stderr",
     "output_type": "stream",
     "text": [
      "C:\\Users\\T\\AppData\\Local\\Temp\\ipykernel_5888\\2146270876.py:2: DtypeWarning: Columns (2) have mixed types. Specify dtype option on import or set low_memory=False.\n",
      "  df_resultado = pd.read_csv('violencia_ordenado_por_cantidad.csv')\n"
     ]
    }
   ],
   "source": [
    "# leer el archivo guardado\n",
    "df_resultado = pd.read_csv('violencia_ordenado_por_cantidad.csv')\n",
    "\n",
    "# Mostrar algunas filas\n",
    "print(df_resultado.head())\n"
   ]
  },
  {
   "cell_type": "code",
   "execution_count": 48,
   "id": "ccdf262c-53a7-4348-9e16-1be1661cd37f",
   "metadata": {},
   "outputs": [],
   "source": [
    "df.ordenado.to_csv('violencia_ordenado_por_cantidad.csv', index=False)"
   ]
  },
  {
   "cell_type": "code",
   "execution_count": null,
   "id": "e83768e0-fabe-4c3c-a699-ed3ef8ddf07a",
   "metadata": {},
   "outputs": [],
   "source": []
  }
 ],
 "metadata": {
  "kernelspec": {
   "display_name": "Python 3 (ipykernel)",
   "language": "python",
   "name": "python3"
  },
  "language_info": {
   "codemirror_mode": {
    "name": "ipython",
    "version": 3
   },
   "file_extension": ".py",
   "mimetype": "text/x-python",
   "name": "python",
   "nbconvert_exporter": "python",
   "pygments_lexer": "ipython3",
   "version": "3.12.7"
  }
 },
 "nbformat": 4,
 "nbformat_minor": 5
}
