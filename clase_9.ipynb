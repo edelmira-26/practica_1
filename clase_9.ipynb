{
 "cells": [
  {
   "cell_type": "code",
   "execution_count": 1,
   "id": "ef5307cc-aff0-48f8-9295-b80a4915bfce",
   "metadata": {},
   "outputs": [],
   "source": [
    "import sqlite3\n",
    "conn = sqlite3.connect('oficina.db')\n",
    "cursor = conn.cursor()"
   ]
  },
  {
   "cell_type": "code",
   "execution_count": 2,
   "id": "4094837a-1e97-408b-b74b-9ac2563016b1",
   "metadata": {},
   "outputs": [],
   "source": [
    "# tabla empresa_operadora"
   ]
  },
  {
   "cell_type": "code",
   "execution_count": 3,
   "id": "14e044b2-a8b5-4be8-9bc8-6363227550e2",
   "metadata": {},
   "outputs": [
    {
     "data": {
      "text/plain": [
       "<sqlite3.Cursor at 0x1c1ad680ac0>"
      ]
     },
     "execution_count": 3,
     "metadata": {},
     "output_type": "execute_result"
    }
   ],
   "source": [
    "cursor.execute(\"\"\"\n",
    "CREATE TABLE empresa_operadora(\n",
    "id_empresa INTEGER PRIMARY KEY AUTOINCREMENT,\n",
    "Nombre VARCHAR(100) NOT NULL,\n",
    "Nit VARCHAR(20) NOT NULL,\n",
    "Direccion VARCHAR(100) NOT NULL,\n",
    "Telefono VARCHAR(10) NOT NULL\n",
    ")\n",
    "\"\"\")"
   ]
  },
  {
   "cell_type": "code",
   "execution_count": 4,
   "id": "c62d4d59-f726-43c9-818d-cbc5b14ee7d0",
   "metadata": {},
   "outputs": [],
   "source": [
    "# tabla vehiculos"
   ]
  },
  {
   "cell_type": "code",
   "execution_count": 5,
   "id": "9cd43f7d-c3b5-436e-a944-ee5eb6b812fd",
   "metadata": {},
   "outputs": [
    {
     "data": {
      "text/plain": [
       "<sqlite3.Cursor at 0x1c1ad680ac0>"
      ]
     },
     "execution_count": 5,
     "metadata": {},
     "output_type": "execute_result"
    }
   ],
   "source": [
    "cursor.execute(\"\"\"\n",
    "CREATE TABLE vehiculo(\n",
    "id_vehiculo INTEGER PRIMARY KEY AUTOINCREMENT,\n",
    "Placa VARCHAR(10) NOT NULL,\n",
    "Tipo_vehiculo VARCHAR(100) NOT NULL,\n",
    "id_empresa INT,\n",
    "FOREIGN KEY(id_empresa) REFERENCES empresa_operadora(id_empresa)\n",
    ")\n",
    "\"\"\")"
   ]
  },
  {
   "cell_type": "code",
   "execution_count": 6,
   "id": "4bf02fd7-362e-4947-9b87-67f7578e838e",
   "metadata": {},
   "outputs": [],
   "source": [
    "# tabla conductor"
   ]
  },
  {
   "cell_type": "code",
   "execution_count": 7,
   "id": "2ee451ff-b35c-4914-8b98-f746ea786abb",
   "metadata": {},
   "outputs": [
    {
     "data": {
      "text/plain": [
       "<sqlite3.Cursor at 0x1c1ad680ac0>"
      ]
     },
     "execution_count": 7,
     "metadata": {},
     "output_type": "execute_result"
    }
   ],
   "source": [
    "cursor.execute(\"\"\"\n",
    "CREATE TABLE conductor(\n",
    "id_conductor INTEGER PRIMARY KEY AUTOINCREMENT,\n",
    "Nombre VARCHAR(100) NOT NULL,\n",
    "Documento VARCHAR(20) NOT NULL,\n",
    "Licencia VARCHAR(20) NOT NULL,\n",
    "Telefono VARCHAR (10) NOT NULL,\n",
    "id_empresa INT,\n",
    "FOREIGN KEY(id_empresa) REFERENCES empresa_operadora(id_empresa)\n",
    ")\n",
    "\"\"\")"
   ]
  },
  {
   "cell_type": "code",
   "execution_count": 8,
   "id": "de26909c-2410-4b77-909f-23c9d9287c6f",
   "metadata": {},
   "outputs": [],
   "source": [
    "# tabla ruta "
   ]
  },
  {
   "cell_type": "code",
   "execution_count": 9,
   "id": "eee653b6-bb73-478b-aa32-2b1b66fb715e",
   "metadata": {},
   "outputs": [
    {
     "data": {
      "text/plain": [
       "<sqlite3.Cursor at 0x1c1ad680ac0>"
      ]
     },
     "execution_count": 9,
     "metadata": {},
     "output_type": "execute_result"
    }
   ],
   "source": [
    "cursor.execute(\"\"\"\n",
    "CREATE TABLE ruta(\n",
    "id_ruta INTEGER PRIMARY KEY AUTOINCREMENT,\n",
    "Origen VARCHAR(100) NOT NULL,\n",
    "Destino VARCHAR(100) NOT NULL\n",
    ")\n",
    "\"\"\")"
   ]
  },
  {
   "cell_type": "code",
   "execution_count": 10,
   "id": "f26f09ce-1427-48cb-82cd-69f677994c48",
   "metadata": {},
   "outputs": [],
   "source": [
    "# tabla viaje "
   ]
  },
  {
   "cell_type": "code",
   "execution_count": 11,
   "id": "2bdf286b-c200-4b40-9005-79523f727e98",
   "metadata": {},
   "outputs": [
    {
     "data": {
      "text/plain": [
       "<sqlite3.Cursor at 0x1c1ad680ac0>"
      ]
     },
     "execution_count": 11,
     "metadata": {},
     "output_type": "execute_result"
    }
   ],
   "source": [
    "cursor.execute(\"\"\"\n",
    "CREATE TABLE viaje(\n",
    "id_viaje INTEGER PRIMARY KEY AUTOINCREMENT,\n",
    "Fecha_viaje VARCHAR(20) NOT NULL,\n",
    "Hora_salida VARCHAR(10) NOT NULL,\n",
    "Hora_llegada VARCHAR(10) NOT NULL,\n",
    "id_vehiculo INTEGER NOT NULL,\n",
    "id_conductor INTEGER NOT NULL,\n",
    "id_ruta INTEGER NOT NULL,\n",
    "FOREIGN KEY(id_vehiculo) REFERENCES vehiculo(id_vehiculo),\n",
    "FOREIGN KEY(id_conductor) REFERENCES conductor(id_conductor),\n",
    "FOREIGN KEY(id_ruta) REFERENCES ruta(id_ruta)\n",
    ")\n",
    "\"\"\")"
   ]
  },
  {
   "cell_type": "code",
   "execution_count": 12,
   "id": "bb639812-92da-44e3-a256-747f9156d4cf",
   "metadata": {},
   "outputs": [],
   "source": [
    "# tabla pasajero"
   ]
  },
  {
   "cell_type": "code",
   "execution_count": 13,
   "id": "9f99eef6-baa1-4acb-9cf7-f8f1dfefe449",
   "metadata": {},
   "outputs": [
    {
     "data": {
      "text/plain": [
       "<sqlite3.Cursor at 0x1c1ad680ac0>"
      ]
     },
     "execution_count": 13,
     "metadata": {},
     "output_type": "execute_result"
    }
   ],
   "source": [
    "cursor.execute(\"\"\"\n",
    "CREATE TABLE pasajero(\n",
    "id_pasajero INTEGER PRIMARY KEY AUTOINCREMENT,\n",
    "Nombre VARCHAR(100) NOT NULL,\n",
    "Documento VARCHAR(20) NOT NULL,\n",
    "Telefono VARCHAR(10) NOT NULL\n",
    ")\n",
    "\"\"\")"
   ]
  },
  {
   "cell_type": "code",
   "execution_count": 14,
   "id": "27cd52ff-82e4-494f-b1df-c85b7be3520d",
   "metadata": {},
   "outputs": [],
   "source": [
    "# tabla boleto"
   ]
  },
  {
   "cell_type": "code",
   "execution_count": 15,
   "id": "47cf323e-588f-496b-81c2-687a560c86c7",
   "metadata": {},
   "outputs": [
    {
     "data": {
      "text/plain": [
       "<sqlite3.Cursor at 0x1c1ad680ac0>"
      ]
     },
     "execution_count": 15,
     "metadata": {},
     "output_type": "execute_result"
    }
   ],
   "source": [
    "cursor.execute(\"\"\"\n",
    "CREATE TABLE boleto(\n",
    "id_boleta INTEGER PRIMARY KEY AUTOINCREMENT,\n",
    "Fecha_compra VARCHAR(20) NOT NULL,\n",
    "Precio VARCHAR (20),\n",
    "id_pasajero INTEGER NOT NULL,\n",
    "id_viaje INTEGER NOT NULL,\n",
    "FOREIGN KEY(id_pasajero) REFERENCES pasajero(id_pasajero),\n",
    "FOREIGN KEY(id_viaje) REFERENCES viaje(id_viaje)\n",
    ")\n",
    "\"\"\")"
   ]
  },
  {
   "cell_type": "code",
   "execution_count": 16,
   "id": "b769397b-39ce-47a3-b98f-535af268b2ed",
   "metadata": {},
   "outputs": [],
   "source": [
    "# agragar datos a la tabla empresa"
   ]
  },
  {
   "cell_type": "code",
   "execution_count": 17,
   "id": "10d89dea-ee7b-4114-a2a2-bf2414d00a94",
   "metadata": {},
   "outputs": [
    {
     "data": {
      "text/plain": [
       "<sqlite3.Cursor at 0x1c1ad680ac0>"
      ]
     },
     "execution_count": 17,
     "metadata": {},
     "output_type": "execute_result"
    }
   ],
   "source": [
    "cursor.execute(\"\"\"\n",
    "INSERT INTO empresa_operadora(nombre, nit, direccion, telefono) VALUES('tres perlas', '2345609754', 'carrera 4 #5-3', '300987234')\n",
    "\"\"\")"
   ]
  },
  {
   "cell_type": "code",
   "execution_count": 18,
   "id": "190b5176-f4fe-4bbe-9f1c-2f6df0dcb748",
   "metadata": {},
   "outputs": [],
   "source": [
    "# agregar datos en la tabla vehiculo"
   ]
  },
  {
   "cell_type": "code",
   "execution_count": 19,
   "id": "17f6dab6-15e0-4070-b3c4-ca97070dd6fa",
   "metadata": {},
   "outputs": [
    {
     "data": {
      "text/plain": [
       "<sqlite3.Cursor at 0x1c1ad680ac0>"
      ]
     },
     "execution_count": 19,
     "metadata": {},
     "output_type": "execute_result"
    }
   ],
   "source": [
    "cursor.execute(\"\"\"\n",
    "INSERT INTO vehiculo(placa, tipo_vehiculo) VALUES('ABC-123', 'Sedán')\n",
    "\"\"\")"
   ]
  },
  {
   "cell_type": "code",
   "execution_count": 20,
   "id": "ebe838de-1be7-4add-8ef9-a5a77c23c342",
   "metadata": {},
   "outputs": [
    {
     "data": {
      "text/plain": [
       "<sqlite3.Cursor at 0x1c1ad680ac0>"
      ]
     },
     "execution_count": 20,
     "metadata": {},
     "output_type": "execute_result"
    }
   ],
   "source": [
    "cursor.execute(\"\"\"\n",
    "INSERT INTO vehiculo(placa, tipo_vehiculo) VALUES('XYZ-789', 'Hatchback ')\n",
    "\"\"\")"
   ]
  },
  {
   "cell_type": "code",
   "execution_count": 21,
   "id": "96bec840-ce6d-40c0-9c8c-fe01d2c9da79",
   "metadata": {},
   "outputs": [
    {
     "data": {
      "text/plain": [
       "<sqlite3.Cursor at 0x1c1ad680ac0>"
      ]
     },
     "execution_count": 21,
     "metadata": {},
     "output_type": "execute_result"
    }
   ],
   "source": [
    "cursor.execute(\"\"\"\n",
    "INSERT INTO vehiculo(placa, tipo_vehiculo) VALUES('LMN-456', 'Station Wagon')\n",
    "\"\"\")"
   ]
  },
  {
   "cell_type": "code",
   "execution_count": 22,
   "id": "7e82f97f-9b95-4391-a883-22917dcfa2cf",
   "metadata": {},
   "outputs": [],
   "source": [
    "#agregar datos en la tabla conductor"
   ]
  },
  {
   "cell_type": "code",
   "execution_count": 23,
   "id": "cf5734eb-3936-47ae-8472-0a937b471637",
   "metadata": {},
   "outputs": [
    {
     "data": {
      "text/plain": [
       "<sqlite3.Cursor at 0x1c1ad680ac0>"
      ]
     },
     "execution_count": 23,
     "metadata": {},
     "output_type": "execute_result"
    }
   ],
   "source": [
    "cursor.execute(\"\"\"\n",
    "INSERT INTO conductor(nombre, documento, licencia, telefono) VALUES('Luis Jaramillo', '1009789654', '11001-0001234-5','325678432')\n",
    "\"\"\")"
   ]
  },
  {
   "cell_type": "code",
   "execution_count": 24,
   "id": "5bbbb613-c47e-4377-ac21-85992f080fa3",
   "metadata": {},
   "outputs": [
    {
     "data": {
      "text/plain": [
       "<sqlite3.Cursor at 0x1c1ad680ac0>"
      ]
     },
     "execution_count": 24,
     "metadata": {},
     "output_type": "execute_result"
    }
   ],
   "source": [
    "cursor.execute(\"\"\"\n",
    "INSERT INTO conductor(nombre, documento, licencia, telefono) VALUES('Alberto Jaramillo', '1009123454', '05001-7654321-2','329098345')\n",
    "\"\"\")"
   ]
  },
  {
   "cell_type": "code",
   "execution_count": 25,
   "id": "5ac31456-c95b-4423-a6b4-fd69323e5f09",
   "metadata": {},
   "outputs": [
    {
     "data": {
      "text/plain": [
       "<sqlite3.Cursor at 0x1c1ad680ac0>"
      ]
     },
     "execution_count": 25,
     "metadata": {},
     "output_type": "execute_result"
    }
   ],
   "source": [
    "cursor.execute(\"\"\"\n",
    "INSERT INTO conductor(nombre, documento, licencia, telefono) VALUES('Felipe Tobon', '1090654324', '08001-1234567-9','300897234')\n",
    "\"\"\")"
   ]
  },
  {
   "cell_type": "code",
   "execution_count": 26,
   "id": "436c46a9-618f-4c15-acfb-187446f48d9b",
   "metadata": {},
   "outputs": [],
   "source": [
    " # agregar datos en la tabla ruta"
   ]
  },
  {
   "cell_type": "code",
   "execution_count": 27,
   "id": "ebd42fce-3e63-4e31-8b08-13cfe8626468",
   "metadata": {},
   "outputs": [
    {
     "data": {
      "text/plain": [
       "<sqlite3.Cursor at 0x1c1ad680ac0>"
      ]
     },
     "execution_count": 27,
     "metadata": {},
     "output_type": "execute_result"
    }
   ],
   "source": [
    "cursor.execute(\"\"\"\n",
    "INSERT INTO ruta(origen, destino) VALUES('cali', 'popayan')\n",
    "\"\"\")"
   ]
  },
  {
   "cell_type": "code",
   "execution_count": 28,
   "id": "64261d7f-4068-4ca2-9afb-eb35ca74920f",
   "metadata": {},
   "outputs": [
    {
     "data": {
      "text/plain": [
       "<sqlite3.Cursor at 0x1c1ad680ac0>"
      ]
     },
     "execution_count": 28,
     "metadata": {},
     "output_type": "execute_result"
    }
   ],
   "source": [
    "cursor.execute(\"\"\"\n",
    "INSERT INTO ruta(origen, destino) VALUES('san pedro', 'tulua')\n",
    "\"\"\")"
   ]
  },
  {
   "cell_type": "code",
   "execution_count": 29,
   "id": "0bf38133-68b5-4172-ab27-78384c392106",
   "metadata": {},
   "outputs": [
    {
     "data": {
      "text/plain": [
       "<sqlite3.Cursor at 0x1c1ad680ac0>"
      ]
     },
     "execution_count": 29,
     "metadata": {},
     "output_type": "execute_result"
    }
   ],
   "source": [
    "cursor.execute(\"\"\"\n",
    "INSERT INTO ruta(origen, destino) VALUES('pasto', 'tulua')\n",
    "\"\"\")"
   ]
  },
  {
   "cell_type": "code",
   "execution_count": 30,
   "id": "9cb26776-b7ad-4b50-966f-ca3c4c8502b3",
   "metadata": {},
   "outputs": [],
   "source": [
    "# agregar datos en la tabla viaje"
   ]
  },
  {
   "cell_type": "code",
   "execution_count": 31,
   "id": "8a632833-27d9-400a-b76b-710a7e33a04d",
   "metadata": {},
   "outputs": [
    {
     "data": {
      "text/plain": [
       "<sqlite3.Cursor at 0x1c1ad680ac0>"
      ]
     },
     "execution_count": 31,
     "metadata": {},
     "output_type": "execute_result"
    }
   ],
   "source": [
    "cursor.execute(\"\"\"\n",
    "INSERT INTO viaje(fecha_viaje, hora_salida, hora_llegada, id_vehiculo, id_ruta, id_conductor) VALUES('18-junio-2025', '08:30am', '08:00pm', 1,1,1)\n",
    "\"\"\")"
   ]
  },
  {
   "cell_type": "code",
   "execution_count": 32,
   "id": "6792bb6e-80cd-4f49-bd51-87f1501b362d",
   "metadata": {},
   "outputs": [
    {
     "data": {
      "text/plain": [
       "<sqlite3.Cursor at 0x1c1ad680ac0>"
      ]
     },
     "execution_count": 32,
     "metadata": {},
     "output_type": "execute_result"
    }
   ],
   "source": [
    "cursor.execute(\"\"\"\n",
    "INSERT INTO viaje(fecha_viaje, hora_salida, hora_llegada, id_vehiculo, id_ruta, id_conductor) VALUES('10-junio-2025', '08:30am', '08:00pm', 2,2,2)\n",
    "\"\"\")"
   ]
  },
  {
   "cell_type": "code",
   "execution_count": 33,
   "id": "1932c82c-1fb1-4f51-92be-82e36fc6e250",
   "metadata": {},
   "outputs": [
    {
     "data": {
      "text/plain": [
       "<sqlite3.Cursor at 0x1c1ad680ac0>"
      ]
     },
     "execution_count": 33,
     "metadata": {},
     "output_type": "execute_result"
    }
   ],
   "source": [
    "cursor.execute(\"\"\"\n",
    "INSERT INTO viaje(fecha_viaje, hora_salida, hora_llegada, id_vehiculo, id_ruta, id_conductor) VALUES('20-junio-2025', '08:30am', '08:00pm', 3,3,3)\n",
    "\"\"\")"
   ]
  },
  {
   "cell_type": "code",
   "execution_count": 34,
   "id": "62ba19b1-a631-4d3d-9684-964b97fc2234",
   "metadata": {},
   "outputs": [],
   "source": [
    "# agregar datos en la tabla pasajero"
   ]
  },
  {
   "cell_type": "code",
   "execution_count": 35,
   "id": "b5cd3950-e533-46ad-a192-9fbbf8f056dd",
   "metadata": {},
   "outputs": [
    {
     "data": {
      "text/plain": [
       "<sqlite3.Cursor at 0x1c1ad680ac0>"
      ]
     },
     "execution_count": 35,
     "metadata": {},
     "output_type": "execute_result"
    }
   ],
   "source": [
    "cursor.execute(\"\"\"\n",
    "INSERT INTO pasajero(Nombre, Documento, Telefono) VALUES('Anderson Marin', '1009456876', 300987567)\n",
    "\"\"\")"
   ]
  },
  {
   "cell_type": "code",
   "execution_count": 36,
   "id": "ad9d1995-ea03-4d77-ac9d-fc36286d6417",
   "metadata": {},
   "outputs": [
    {
     "data": {
      "text/plain": [
       "<sqlite3.Cursor at 0x1c1ad680ac0>"
      ]
     },
     "execution_count": 36,
     "metadata": {},
     "output_type": "execute_result"
    }
   ],
   "source": [
    "cursor.execute(\"\"\"\n",
    "INSERT INTO pasajero(Nombre, Documento, Telefono) VALUES('Andres Marin', '1006738976', 300987789)\n",
    "\"\"\")"
   ]
  },
  {
   "cell_type": "code",
   "execution_count": 37,
   "id": "9b90d124-54fa-41ec-992d-eb7fb061448e",
   "metadata": {},
   "outputs": [
    {
     "data": {
      "text/plain": [
       "<sqlite3.Cursor at 0x1c1ad680ac0>"
      ]
     },
     "execution_count": 37,
     "metadata": {},
     "output_type": "execute_result"
    }
   ],
   "source": [
    "cursor.execute(\"\"\"\n",
    "INSERT INTO pasajero(Nombre, Documento, Telefono) VALUES('luisa Martinez', '1007098976', 3146548970)\n",
    "\"\"\")"
   ]
  },
  {
   "cell_type": "code",
   "execution_count": 38,
   "id": "454214b4-c9fb-4439-9597-77ba9fa004f3",
   "metadata": {},
   "outputs": [],
   "source": [
    "# agragar datos a la tabla boletos"
   ]
  },
  {
   "cell_type": "code",
   "execution_count": 39,
   "id": "d75b2ac0-e425-4efb-8a62-89c49dd565df",
   "metadata": {},
   "outputs": [
    {
     "data": {
      "text/plain": [
       "<sqlite3.Cursor at 0x1c1ad680ac0>"
      ]
     },
     "execution_count": 39,
     "metadata": {},
     "output_type": "execute_result"
    }
   ],
   "source": [
    "cursor.execute(\"\"\"\n",
    "INSERT INTO boleto(fecha_compra, precio, id_pasajero, id_viaje) VALUES('14-junio-2025', '45.000', 1,1)\n",
    "\"\"\")"
   ]
  },
  {
   "cell_type": "code",
   "execution_count": 40,
   "id": "e9206a14-14e3-4a4b-978b-cd1f1a976b58",
   "metadata": {},
   "outputs": [
    {
     "data": {
      "text/plain": [
       "<sqlite3.Cursor at 0x1c1ad680ac0>"
      ]
     },
     "execution_count": 40,
     "metadata": {},
     "output_type": "execute_result"
    }
   ],
   "source": [
    "cursor.execute(\"\"\"\n",
    "INSERT INTO boleto(fecha_compra, precio, id_pasajero, id_viaje) VALUES('10-junio-2025', '45.000', 2,2)\n",
    "\"\"\")"
   ]
  },
  {
   "cell_type": "code",
   "execution_count": 41,
   "id": "46c97323-2391-4452-b829-216bc702b711",
   "metadata": {},
   "outputs": [
    {
     "data": {
      "text/plain": [
       "<sqlite3.Cursor at 0x1c1ad680ac0>"
      ]
     },
     "execution_count": 41,
     "metadata": {},
     "output_type": "execute_result"
    }
   ],
   "source": [
    "cursor.execute(\"\"\"\n",
    "INSERT INTO boleto(fecha_compra, precio, id_pasajero, id_viaje) VALUES('10-junio-2025', '40.000', 3,3)\n",
    "\"\"\")"
   ]
  },
  {
   "cell_type": "code",
   "execution_count": 42,
   "id": "a2b72ee4-8e0d-4aba-8eaf-6c89a406bfae",
   "metadata": {},
   "outputs": [
    {
     "name": "stdout",
     "output_type": "stream",
     "text": [
      "(1, 'cali', 'popayan')\n",
      "(2, 'san pedro', 'tulua')\n",
      "(3, 'pasto', 'tulua')\n"
     ]
    }
   ],
   "source": [
    "cursor.execute(\"\"\"\n",
    "SELECT * FROM ruta\n",
    "\"\"\")\n",
    "\n",
    "for row in cursor.fetchall():\n",
    "    print(row)"
   ]
  },
  {
   "cell_type": "code",
   "execution_count": 43,
   "id": "ec89223a-75fd-4f31-b428-f8321f1b57da",
   "metadata": {},
   "outputs": [
    {
     "name": "stdout",
     "output_type": "stream",
     "text": [
      "\n",
      "📄 Datos de la tabla: empresa_operadora\n",
      "(1, 'tres perlas', '2345609754', 'carrera 4 #5-3', '300987234')\n",
      "\n",
      "📄 Datos de la tabla: vehiculo\n",
      "(1, 'ABC-123', 'Sedán', None)\n",
      "(2, 'XYZ-789', 'Hatchback ', None)\n",
      "(3, 'LMN-456', 'Station Wagon', None)\n",
      "\n",
      "📄 Datos de la tabla: conductor\n",
      "(1, 'Luis Jaramillo', '1009789654', '11001-0001234-5', '325678432', None)\n",
      "(2, 'Alberto Jaramillo', '1009123454', '05001-7654321-2', '329098345', None)\n",
      "(3, 'Felipe Tobon', '1090654324', '08001-1234567-9', '300897234', None)\n",
      "\n",
      "📄 Datos de la tabla: ruta\n",
      "(1, 'cali', 'popayan')\n",
      "(2, 'san pedro', 'tulua')\n",
      "(3, 'pasto', 'tulua')\n",
      "\n",
      "📄 Datos de la tabla: viaje\n",
      "(1, '18-junio-2025', '08:30am', '08:00pm', 1, 1, 1)\n",
      "(2, '10-junio-2025', '08:30am', '08:00pm', 2, 2, 2)\n",
      "(3, '20-junio-2025', '08:30am', '08:00pm', 3, 3, 3)\n",
      "\n",
      "📄 Datos de la tabla: pasajero\n",
      "(1, 'Anderson Marin', '1009456876', '300987567')\n",
      "(2, 'Andres Marin', '1006738976', '300987789')\n",
      "(3, 'luisa Martinez', '1007098976', '3146548970')\n",
      "\n",
      "📄 Datos de la tabla: boleto\n",
      "(1, '14-junio-2025', '45.000', 1, 1)\n",
      "(2, '10-junio-2025', '45.000', 2, 2)\n",
      "(3, '10-junio-2025', '40.000', 3, 3)\n"
     ]
    }
   ],
   "source": [
    "tablas = [\n",
    "    \"empresa_operadora\",\n",
    "    \"vehiculo\",\n",
    "    \"conductor\",\n",
    "    \"ruta\",\n",
    "    \"viaje\",\n",
    "    \"pasajero\",\n",
    "    \"boleto\"\n",
    "]\n",
    "\n",
    "for nombre_tabla in tablas:\n",
    "    print(f\"\\n📄 Datos de la tabla: {nombre_tabla}\")\n",
    "    cursor.execute(f\"SELECT * FROM {nombre_tabla}\")\n",
    "    filas = cursor.fetchall()\n",
    "    \n",
    "    if filas:\n",
    "        for fila in filas:\n",
    "            print(fila)\n",
    "    else:\n",
    "        print(\"🛈 La tabla está vacía.\")\n"
   ]
  },
  {
   "cell_type": "code",
   "execution_count": 44,
   "id": "7309d0ee-4a97-40e0-a5c7-f9d2eba34e80",
   "metadata": {},
   "outputs": [
    {
     "name": "stdout",
     "output_type": "stream",
     "text": [
      "('Anderson Marin', '18-junio-2025', 'cali', 'ABC-123', 'Luis Jaramillo')\n",
      "('Andres Marin', '10-junio-2025', 'san pedro', 'XYZ-789', 'Alberto Jaramillo')\n",
      "('luisa Martinez', '20-junio-2025', 'pasto', 'LMN-456', 'Felipe Tobon')\n"
     ]
    }
   ],
   "source": [
    "cursor.execute(\"\"\"\n",
    "SELECT\n",
    "    p.nombre AS pasajero,\n",
    "    v.fecha_viaje AS fecha_viaje,\n",
    "    r.origen AS origen,\n",
    "    vh.placa AS placa,\n",
    "    c.nombre AS conductor\n",
    "FROM boleto AS b\n",
    "JOIN pasajero AS p ON b.id_pasajero = p.id_pasajero\n",
    "JOIN viaje AS v ON b.id_viaje = v.id_viaje\n",
    "JOIN ruta AS r ON v.id_ruta = r.id_ruta\n",
    "JOIN vehiculo AS vh ON v.id_vehiculo = vh.id_vehiculo\n",
    "JOIN conductor AS c ON v.id_conductor = c.id_conductor\n",
    "\"\"\")\n",
    "\n",
    "for row in cursor.fetchall():\n",
    "    print(row)"
   ]
  },
  {
   "cell_type": "code",
   "execution_count": 45,
   "id": "e34fd67e-dac4-416e-83e6-563d2a6029ca",
   "metadata": {},
   "outputs": [],
   "source": [
    "conn.commit()\n",
    "conn.close()"
   ]
  },
  {
   "cell_type": "code",
   "execution_count": 49,
   "id": "e05f1a64-b6ee-4e45-a4d4-f62b9fbf2ef5",
   "metadata": {},
   "outputs": [],
   "source": [
    "import pandas as pd\n",
    "conn = sqlite3.connect('oficina.db')"
   ]
  },
  {
   "cell_type": "code",
   "execution_count": 56,
   "id": "8e753c12-49ec-4079-9d71-f5b407ab9343",
   "metadata": {},
   "outputs": [
    {
     "data": {
      "text/html": [
       "<div>\n",
       "<style scoped>\n",
       "    .dataframe tbody tr th:only-of-type {\n",
       "        vertical-align: middle;\n",
       "    }\n",
       "\n",
       "    .dataframe tbody tr th {\n",
       "        vertical-align: top;\n",
       "    }\n",
       "\n",
       "    .dataframe thead th {\n",
       "        text-align: right;\n",
       "    }\n",
       "</style>\n",
       "<table border=\"1\" class=\"dataframe\">\n",
       "  <thead>\n",
       "    <tr style=\"text-align: right;\">\n",
       "      <th></th>\n",
       "      <th>id_empresa</th>\n",
       "      <th>Nombre</th>\n",
       "      <th>Nit</th>\n",
       "      <th>Direccion</th>\n",
       "      <th>Telefono</th>\n",
       "    </tr>\n",
       "  </thead>\n",
       "  <tbody>\n",
       "    <tr>\n",
       "      <th>0</th>\n",
       "      <td>1</td>\n",
       "      <td>tres perlas</td>\n",
       "      <td>2345609754</td>\n",
       "      <td>carrera 4 #5-3</td>\n",
       "      <td>300987234</td>\n",
       "    </tr>\n",
       "  </tbody>\n",
       "</table>\n",
       "</div>"
      ],
      "text/plain": [
       "   id_empresa       Nombre         Nit       Direccion   Telefono\n",
       "0           1  tres perlas  2345609754  carrera 4 #5-3  300987234"
      ]
     },
     "execution_count": 56,
     "metadata": {},
     "output_type": "execute_result"
    }
   ],
   "source": [
    "pd.read_sql_query(\"SELECT * FROM empresa_operadora \", conn)"
   ]
  },
  {
   "cell_type": "code",
   "execution_count": null,
   "id": "978721dd-556d-477b-bbe9-5caf8703d9cf",
   "metadata": {},
   "outputs": [],
   "source": []
  }
 ],
 "metadata": {
  "kernelspec": {
   "display_name": "Python 3 (ipykernel)",
   "language": "python",
   "name": "python3"
  },
  "language_info": {
   "codemirror_mode": {
    "name": "ipython",
    "version": 3
   },
   "file_extension": ".py",
   "mimetype": "text/x-python",
   "name": "python",
   "nbconvert_exporter": "python",
   "pygments_lexer": "ipython3",
   "version": "3.12.7"
  }
 },
 "nbformat": 4,
 "nbformat_minor": 5
}
