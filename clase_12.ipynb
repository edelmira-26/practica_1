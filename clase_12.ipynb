{
 "cells": [
  {
   "cell_type": "code",
   "execution_count": null,
   "id": "8cd83647-c9c5-4867-98a8-fe33110b9e70",
   "metadata": {},
   "outputs": [],
   "source": [
    "# Dashboard"
   ]
  },
  {
   "cell_type": "code",
   "execution_count": null,
   "id": "1a633048-c4cf-4b12-9844-d13e9ef3c3b9",
   "metadata": {},
   "outputs": [],
   "source": [
    "# realizar limpieza de la base de datos"
   ]
  },
  {
   "cell_type": "code",
   "execution_count": 2,
   "id": "4ffbef13-5831-4bcc-8f83-aa0258dac2f3",
   "metadata": {},
   "outputs": [],
   "source": [
    "import pandas as pd"
   ]
  },
  {
   "cell_type": "code",
   "execution_count": 3,
   "id": "978bb0ea-0368-4344-b57e-be452343caea",
   "metadata": {},
   "outputs": [],
   "source": [
    "# cargar el archivo"
   ]
  },
  {
   "cell_type": "code",
   "execution_count": 4,
   "id": "cb45a19a-12d7-41fb-8cb8-d29955b2654a",
   "metadata": {},
   "outputs": [
    {
     "name": "stderr",
     "output_type": "stream",
     "text": [
      "C:\\Users\\T\\anaconda3\\Lib\\site-packages\\openpyxl\\styles\\stylesheet.py:237: UserWarning: Workbook contains no default style, apply openpyxl's default\n",
      "  warn(\"Workbook contains no default style, apply openpyxl's default\")\n"
     ]
    }
   ],
   "source": [
    "archivo = \"Casos_2025.xlsx\"\n",
    "df = pd.read_excel(archivo)"
   ]
  },
  {
   "cell_type": "code",
   "execution_count": 5,
   "id": "1555ae95-def2-4977-90a0-e1a85eb50dfc",
   "metadata": {},
   "outputs": [],
   "source": [
    "# primeras filas"
   ]
  },
  {
   "cell_type": "code",
   "execution_count": 9,
   "id": "2a879ccd-b9e6-4dc8-a5f7-306a7f78bcc6",
   "metadata": {},
   "outputs": [
    {
     "name": "stdout",
     "output_type": "stream",
     "text": [
      "   ID Caso ID Caso Relacionado   Año  Mes  Día Código DANE de Municipio  \\\n",
      "0   152888                 NaN  2004    4    0                    05585   \n",
      "1   207556                 NaN  2001    4   25                    05756   \n",
      "2   209268                 NaN     0    0    0                    05234   \n",
      "3   225057                 NaN  1988    0    0                    68689   \n",
      "4   228661                 NaN  1998    2   15                    66456   \n",
      "\n",
      "                Municipio Departamento                Región    Modalidad  \\\n",
      "0             PUERTO NARE    ANTIOQUIA       MAGDALENA MEDIO   PERSUASIÓN   \n",
      "1                  SONSON    ANTIOQUIA    ORIENTE ANTIOQUEÑO   PERSUASIÓN   \n",
      "2                 DABEIBA    ANTIOQUIA  OCCIDENTE ANTIOQUEÑO  DESCONOCIDA   \n",
      "3  SAN VICENTE DE CHUCURI    SANTANDER       MAGDALENA MEDIO     COACCIÓN   \n",
      "4                MISTRATO    RISARALDA          EJE CAFETERO   PERSUASIÓN   \n",
      "\n",
      "   ... Lesionados Civiles Pillaje  Tortura  Violencia Basada en Género  \\\n",
      "0  ...                  0       0        0                         NaN   \n",
      "1  ...                  0       0        0                         NaN   \n",
      "2  ...                  0       0        0                         NaN   \n",
      "3  ...                  0       0        0                         NaN   \n",
      "4  ...                  0       0        0                         NaN   \n",
      "\n",
      "     Otro Hecho Simultáneo  Total de Víctimas del Caso  Forma de Vinculación  \\\n",
      "0                      NaN                           1       SIN INFORMACIÓN   \n",
      "1                      NaN                           1            INDIVIDUAL   \n",
      "2                      NaN                           1            INDIVIDUAL   \n",
      "3                      NaN                           1            INDIVIDUAL   \n",
      "4  OCULTAMIENTO DE CADÁVER                           1            INDIVIDUAL   \n",
      "\n",
      "   Tipo de Vinculación   Latitud   Longitud  \n",
      "0        RECLUTAMIENTO  6.219481 -74.571689  \n",
      "1        RECLUTAMIENTO  5.837681 -74.828073  \n",
      "2        RECLUTAMIENTO  6.992244 -76.314263  \n",
      "3        RECLUTAMIENTO  6.894292 -73.539003  \n",
      "4        RECLUTAMIENTO  5.416268 -75.904326  \n",
      "\n",
      "[5 rows x 28 columns]\n"
     ]
    }
   ],
   "source": [
    "print(df.head())"
   ]
  },
  {
   "cell_type": "code",
   "execution_count": 10,
   "id": "fb6b1144-fbd2-4809-bb7b-d8f3cb6a5737",
   "metadata": {},
   "outputs": [],
   "source": [
    "# columnas disponibles"
   ]
  },
  {
   "cell_type": "code",
   "execution_count": 11,
   "id": "3774f0f9-39b6-4ac8-8181-f751089be92b",
   "metadata": {},
   "outputs": [
    {
     "name": "stdout",
     "output_type": "stream",
     "text": [
      "Index(['ID Caso', 'ID Caso Relacionado', 'Año', 'Mes', 'Día',\n",
      "       'Código DANE de Municipio', 'Municipio', 'Departamento', 'Región',\n",
      "       'Modalidad', 'Presunto Responsable', 'Descripción Presunto Responsable',\n",
      "       'Abandono o Despojo Forzado de Tierras', 'Amenaza o Intimidación',\n",
      "       'Ataque Contra Misión Médica',\n",
      "       'Confinamiento o Restricción a la Movilidad', 'Desplazamiento Forzado',\n",
      "       'Extorsión', 'Lesionados Civiles', 'Pillaje', 'Tortura',\n",
      "       'Violencia Basada en Género', 'Otro Hecho Simultáneo',\n",
      "       'Total de Víctimas del Caso', 'Forma de Vinculación',\n",
      "       'Tipo de Vinculación', 'Latitud', 'Longitud'],\n",
      "      dtype='object')\n"
     ]
    }
   ],
   "source": [
    "print(df.columns)"
   ]
  },
  {
   "cell_type": "code",
   "execution_count": 12,
   "id": "cb23e0a1-a980-4f66-a3f6-c3d7063984f2",
   "metadata": {},
   "outputs": [],
   "source": [
    "# columnas ha usar "
   ]
  },
  {
   "cell_type": "code",
   "execution_count": 13,
   "id": "4b73965e-c49b-4c05-a571-0275fd64d7d3",
   "metadata": {},
   "outputs": [],
   "source": [
    "columnas_utiles = [\n",
    "    'ID Caso','Año','Departamento','Municipio','Modalidad','Presunto Responsable','Desplazamiento Forzado','Confinamiento o Restricción a la Movilidad','Extorsión','Tortura','Total de Víctimas del Caso'\n",
    "]\n",
    "df=df[columnas_utiles]"
   ]
  },
  {
   "cell_type": "code",
   "execution_count": 14,
   "id": "87ae2453-990a-499b-aeca-c29b840f9e38",
   "metadata": {},
   "outputs": [],
   "source": [
    "# renombrar columnas para facilitar el analisis"
   ]
  },
  {
   "cell_type": "code",
   "execution_count": 15,
   "id": "696378c1-7020-4b95-a877-2628b4de7bc1",
   "metadata": {},
   "outputs": [],
   "source": [
    "df = df.rename(columns={\n",
    "    'Presunto Responsable': 'Responsable',\n",
    "    'Desplazamiento Forzado': 'Desplazamiento',\n",
    "    'Confinamiento o Restricción a la Movilidad': 'Confinamiento',\n",
    "    'Amenaza o Intimidacion':'Amenaza',\n",
    "    'Total de Víctimas del Caso': 'Victimas'\n",
    "})"
   ]
  },
  {
   "cell_type": "code",
   "execution_count": 16,
   "id": "9957312c-75da-40cb-9e91-f8820804cde7",
   "metadata": {},
   "outputs": [
    {
     "name": "stdout",
     "output_type": "stream",
     "text": [
      "ID Caso           0\n",
      "Año               0\n",
      "Departamento      0\n",
      "Municipio         0\n",
      "Modalidad         0\n",
      "Responsable       0\n",
      "Desplazamiento    0\n",
      "Confinamiento     0\n",
      "Extorsión         0\n",
      "Tortura           0\n",
      "Victimas          0\n",
      "dtype: int64\n"
     ]
    }
   ],
   "source": [
    "print(df.isnull().sum())"
   ]
  },
  {
   "cell_type": "code",
   "execution_count": 17,
   "id": "bb707483-fe43-487e-9823-238dec5bb09d",
   "metadata": {},
   "outputs": [],
   "source": [
    "# eliminar filas vacias"
   ]
  },
  {
   "cell_type": "code",
   "execution_count": 18,
   "id": "0a23bad8-7951-40ae-8290-256c53b03ea9",
   "metadata": {},
   "outputs": [],
   "source": [
    "df = df.dropna(how='all')"
   ]
  },
  {
   "cell_type": "code",
   "execution_count": 19,
   "id": "0c26d574-70ca-4d92-8e57-00995b809407",
   "metadata": {},
   "outputs": [],
   "source": [
    "# ver duplicados"
   ]
  },
  {
   "cell_type": "code",
   "execution_count": 20,
   "id": "7ceff16b-9c99-4cea-b99a-2e07da151762",
   "metadata": {},
   "outputs": [
    {
     "name": "stdout",
     "output_type": "stream",
     "text": [
      "Filas duplicadas: 0\n"
     ]
    }
   ],
   "source": [
    "duplicados = df.duplicated()\n",
    "print(f\"Filas duplicadas: {duplicados.sum()}\")"
   ]
  },
  {
   "cell_type": "code",
   "execution_count": 21,
   "id": "40b908f6-2ee3-4873-b509-c0793e31f2b7",
   "metadata": {},
   "outputs": [],
   "source": [
    "# ver el tipo de dato"
   ]
  },
  {
   "cell_type": "code",
   "execution_count": 22,
   "id": "6383f6b6-e1e7-4999-bf76-ecd1c83e358b",
   "metadata": {},
   "outputs": [
    {
     "name": "stdout",
     "output_type": "stream",
     "text": [
      "ID Caso            int64\n",
      "Año                int64\n",
      "Departamento      object\n",
      "Municipio         object\n",
      "Modalidad         object\n",
      "Responsable       object\n",
      "Desplazamiento     int64\n",
      "Confinamiento      int64\n",
      "Extorsión          int64\n",
      "Tortura            int64\n",
      "Victimas           int64\n",
      "dtype: object\n"
     ]
    }
   ],
   "source": [
    "print(df.dtypes)"
   ]
  },
  {
   "cell_type": "code",
   "execution_count": null,
   "id": "06ebe988-7997-464d-9274-eac22b56c4f4",
   "metadata": {},
   "outputs": [],
   "source": [
    "# verificar tipos de datos"
   ]
  },
  {
   "cell_type": "code",
   "execution_count": 24,
   "id": "9beaf6f6-de62-490d-a4f2-a0bc9c1f1fe6",
   "metadata": {},
   "outputs": [
    {
     "name": "stdout",
     "output_type": "stream",
     "text": [
      "[0 1]\n",
      "[0 1]\n",
      "[0 1]\n",
      "[ 0  1  3  2 10 11]\n"
     ]
    }
   ],
   "source": [
    "print(df['Desplazamiento'].unique())\n",
    "print(df['Confinamiento'].unique())\n",
    "print(df['Extorsión'].unique())\n",
    "print(df['Tortura'].unique())\n"
   ]
  },
  {
   "cell_type": "code",
   "execution_count": null,
   "id": "ad0e94a1-3cf0-401f-8b03-f0d44926e520",
   "metadata": {},
   "outputs": [],
   "source": [
    "# cambiar tipos de datos "
   ]
  },
  {
   "cell_type": "code",
   "execution_count": 26,
   "id": "c32f54e4-f8ce-48e5-91c5-0db41dd5159a",
   "metadata": {},
   "outputs": [],
   "source": [
    "df['Desplazamiento'] = df['Desplazamiento'].astype(int)\n",
    "df['Confinamiento'] = df['Confinamiento'].astype(int)\n",
    "df['Extorsión'] = df['Extorsión'].astype(int)\n",
    "df['Tortura'] = df['Tortura'].astype(int)"
   ]
  },
  {
   "cell_type": "code",
   "execution_count": null,
   "id": "3c55d0b9-14f8-4189-91e0-f40600fbc5e4",
   "metadata": {},
   "outputs": [],
   "source": [
    "# crear columnas derivadas"
   ]
  },
  {
   "cell_type": "code",
   "execution_count": 27,
   "id": "53bbcf07-c7b4-40db-9a40-98e7c5ae37ae",
   "metadata": {},
   "outputs": [],
   "source": [
    "def Tipo_violencia(row):\n",
    "    tipos = []\n",
    "    if row['Desplazamiento']==1:\n",
    "        tipos.append('Desplazamiento')\n",
    "    if row['Confinamiento']==1:\n",
    "        tipos.append('Confinamiento')\n",
    "    if row['Extorsión']==1:\n",
    "        tipos.append('Extorsión')\n",
    "    if row['Tortura']>0:\n",
    "        tipos.append('Tortura')\n",
    "    return','.join(tipos)\n",
    "\n",
    "df['Tipo_violencia']=df.apply(Tipo_violencia, axis=1)"
   ]
  },
  {
   "cell_type": "code",
   "execution_count": 32,
   "id": "ec7085d7-74c4-4bfc-b113-1b26745ccc02",
   "metadata": {},
   "outputs": [],
   "source": [
    "df['Num_tipo_violencia'] = (\n",
    "    df['Desplazamiento'] +\n",
    "    df['Confinamiento'] +\n",
    "    df['Extorsión'] +\n",
    "    (df['Tortura'] > 0).astype(int)\n",
    ")"
   ]
  },
  {
   "cell_type": "code",
   "execution_count": 34,
   "id": "60f1e4e8-975f-4b5f-8324-dfee4c46584c",
   "metadata": {},
   "outputs": [],
   "source": [
    "def Clasificar_gravedad(row):\n",
    "   if row['Victimas'] >= 10 or row['Tortura'] > 0 :\n",
    "       return 'Alta'\n",
    "   elif row['Victimas'] >= 5 :\n",
    "       return 'Media'\n",
    "   else:\n",
    "       return 'Baja'\n",
    "\n",
    "df['Gravedad'] = df.apply(Clasificar_gravedad, axis=1)"
   ]
  },
  {
   "cell_type": "code",
   "execution_count": 35,
   "id": "9682e8e2-54ed-4257-a21c-d0927e80a4fb",
   "metadata": {},
   "outputs": [],
   "source": [
    "df['Decada'] = (df['Año']//10)*10"
   ]
  },
  {
   "cell_type": "code",
   "execution_count": null,
   "id": "4fdb2b66-cec8-4730-a6c0-b5ef8ef0ead2",
   "metadata": {},
   "outputs": [],
   "source": [
    "# guardar los datos"
   ]
  },
  {
   "cell_type": "code",
   "execution_count": 36,
   "id": "10e44b2f-c215-435c-97e0-4a3f2b14ce8f",
   "metadata": {},
   "outputs": [],
   "source": [
    "df.to_csv(\"datos_transformados.csv\", index=False)"
   ]
  },
  {
   "cell_type": "code",
   "execution_count": null,
   "id": "2a8adf09-efe5-4a01-93d3-3ae27896fb03",
   "metadata": {},
   "outputs": [],
   "source": [
    "# estandarizar los valores (Departamento,modalidad,Responsable)"
   ]
  },
  {
   "cell_type": "code",
   "execution_count": 38,
   "id": "977cc39a-1b90-4b34-9b4f-73da810fb73e",
   "metadata": {},
   "outputs": [
    {
     "name": "stdout",
     "output_type": "stream",
     "text": [
      "['ANTIOQUIA' 'SANTANDER' 'RISARALDA' 'META' 'TOLIMA' 'CALDAS' 'CORDOBA'\n",
      " 'VAUPES' 'NARIÑO' 'HUILA' 'CHOCO' 'SIN INFORMACION' 'EXTERIOR' 'VICHADA'\n",
      " 'GUAVIARE' 'GUAINIA' 'AMAZONAS'\n",
      " 'ARCHIPIELAGO DE SAN ANDRES, PROVIDENCIA Y SANTA CATALINA' 'PUTUMAYO'\n",
      " 'CASANARE' 'ARAUCA' 'VALLE DEL CAUCA' 'SUCRE' 'QUINDIO'\n",
      " 'NORTE DE SANTANDER' 'MAGDALENA' 'CESAR' 'LA GUAJIRA' 'CAQUETA'\n",
      " 'CUNDINAMARCA' 'CAUCA' 'BOYACA' 'BOLIVAR' 'BOGOTA, D. C.' 'ATLANTICO']\n"
     ]
    }
   ],
   "source": [
    "print(df['Departamento'].unique())"
   ]
  },
  {
   "cell_type": "code",
   "execution_count": 41,
   "id": "2440c534-7757-4994-9b42-ca21c8921c13",
   "metadata": {},
   "outputs": [],
   "source": [
    "df['Departemento'] = df['Departamento'].replace({\n",
    "    'ARCHIPIELAGO DE SAN ANDRES, PROVIDENCIA Y SANTA CATALINA': 'SAN ANDRES,PROVIDENCIA Y SANTA CATALINA',\n",
    "    'BOGOTA, D.C.':'BOGOTA D.C.'\n",
    "})"
   ]
  },
  {
   "cell_type": "code",
   "execution_count": 42,
   "id": "667248dd-e268-4498-8651-a9aec58cb69c",
   "metadata": {},
   "outputs": [
    {
     "name": "stdout",
     "output_type": "stream",
     "text": [
      "['PERSUASIÓN' 'DESCONOCIDA' 'COACCIÓN' 'ENGAÑO' 'OTRA ¿CUÁL?']\n"
     ]
    }
   ],
   "source": [
    "print(df['Modalidad'].unique())"
   ]
  },
  {
   "cell_type": "code",
   "execution_count": 43,
   "id": "9f1197de-4642-499b-bcc9-ca464340390b",
   "metadata": {},
   "outputs": [],
   "source": [
    "df['Modalidad'] = df['Modalidad'].replace({\n",
    "    'DESCONOCIDAD': 'SIN INFORMACION',\n",
    "    'OTRA ¿CUÁL?': 'OTRA'\n",
    "})"
   ]
  },
  {
   "cell_type": "code",
   "execution_count": 45,
   "id": "255ebfde-7216-44df-827c-5c80a01adf7f",
   "metadata": {},
   "outputs": [
    {
     "name": "stdout",
     "output_type": "stream",
     "text": [
      "['GRUPO PARAMILITAR' 'GUERRILLA' 'DESCONOCIDO'\n",
      " 'GRUPO ARMADO NO IDENTIFICADO' 'AGENTE DEL ESTADO'\n",
      " 'GRUPO POSDESMOVILIZACIÓN' 'BANDOLERISMO' 'OTRO ¿CUÁL?'\n",
      " 'CRIMEN ORGANIZADO' 'AGENTE DEL ESTADO - GRUPO PARAMILITAR']\n"
     ]
    }
   ],
   "source": [
    "print(df['Responsable'].unique())"
   ]
  },
  {
   "cell_type": "code",
   "execution_count": 46,
   "id": "ca256b0f-1d09-4eb9-b399-5ba396f06eeb",
   "metadata": {},
   "outputs": [],
   "source": [
    "df['Respnsable'] = df['Responsable'].replace({\n",
    "    'GRUPO ARMADO NO IDENTIFICADO': 'DESCONOCIDO',\n",
    "    'BANDOLERISMO': 'OTRO',\n",
    "    'OTRO ¿CUAL?': 'OTRO',\n",
    "    'AGENTE DEL ESTADO - GRUPO PARAMILITAR': 'AGENTE DEL ESTADO'\n",
    "})"
   ]
  },
  {
   "cell_type": "code",
   "execution_count": null,
   "id": "049e4742-7ddf-4984-ab80-999975ff5c4d",
   "metadata": {},
   "outputs": [],
   "source": [
    "# indicadores clave"
   ]
  },
  {
   "cell_type": "code",
   "execution_count": 48,
   "id": "e65c7cd4-c469-4067-866a-b9b40caa045c",
   "metadata": {},
   "outputs": [
    {
     "name": "stdout",
     "output_type": "stream",
     "text": [
      "🧾 Total de Casos:            17280\n",
      "👥 Total de Víctimas:         18275\n",
      "📊 Promedio por Caso:         1.06\n",
      "🔥 Casos con Gravedad Alta:   39\n",
      "⚠️ Casos con Violencia Múltiple: 14\n",
      "🗺️ Departamentos Afectados:   35\n",
      "🎯 Responsable Más Frecuente: DESCONOCIDO\n",
      "\n",
      "📌 Top 5 Responsables:\n",
      " Responsable\n",
      "DESCONOCIDO                     9314\n",
      "GUERRILLA                       4329\n",
      "GRUPO PARAMILITAR               1856\n",
      "GRUPO ARMADO NO IDENTIFICADO    1498\n",
      "GRUPO POSDESMOVILIZACIÓN         262\n",
      "Name: count, dtype: int64\n"
     ]
    }
   ],
   "source": [
    "# 1. Total de casos \n",
    "total_casos = df['ID Caso'].nunique()\n",
    "\n",
    "# 2. Total de víctimas\n",
    "total_victimas = df['Victimas'].sum()\n",
    "\n",
    "# 3. Promedio de víctimas por caso\n",
    "promedio_victimas = df['Victimas'].mean()\n",
    "\n",
    "# 4. Casos con violencia grave\n",
    "casos_graves = df[df['Gravedad'] == 'Alta'].shape[0]\n",
    "\n",
    "# 5. Casos con múltiples tipos de violencia\n",
    "casos_multiviolencia = df[df['Num_tipo_violencia'] > 1].shape[0]\n",
    "\n",
    "# 6. Departamentos afectados\n",
    "departamentos_afectados = df['Departamento'].nunique()\n",
    "\n",
    "# 7. Responsable más frecuente\n",
    "responsable_top = df['Responsable'].value_counts().idxmax()\n",
    "\n",
    "# 8. Número de responsables más comunes (top 5)\n",
    "responsables_top_5 = df['Responsable'].value_counts().head(5)\n",
    "\n",
    "# Mostrar resultados\n",
    "print(\"🧾 Total de Casos:           \", total_casos)\n",
    "print(\"👥 Total de Víctimas:        \", total_victimas)\n",
    "print(\"📊 Promedio por Caso:        \", round(promedio_victimas, 2))\n",
    "print(\"🔥 Casos con Gravedad Alta:  \", casos_graves)\n",
    "print(\"⚠️ Casos con Violencia Múltiple:\", casos_multiviolencia)\n",
    "print(\"🗺️ Departamentos Afectados:  \", departamentos_afectados)\n",
    "print(\"🎯 Responsable Más Frecuente:\", responsable_top)\n",
    "print(\"\\n📌 Top 5 Responsables:\\n\", responsables_top_5)\n"
   ]
  },
  {
   "cell_type": "code",
   "execution_count": 50,
   "id": "f59533dc-0161-419c-aac1-b701f2b827c7",
   "metadata": {},
   "outputs": [],
   "source": [
    "df.to_csv('resultado_final.csv', index=False)"
   ]
  },
  {
   "cell_type": "code",
   "execution_count": null,
   "id": "2d389b70-8a48-4d18-a24f-ad457e815705",
   "metadata": {},
   "outputs": [],
   "source": []
  }
 ],
 "metadata": {
  "kernelspec": {
   "display_name": "Python 3 (ipykernel)",
   "language": "python",
   "name": "python3"
  },
  "language_info": {
   "codemirror_mode": {
    "name": "ipython",
    "version": 3
   },
   "file_extension": ".py",
   "mimetype": "text/x-python",
   "name": "python",
   "nbconvert_exporter": "python",
   "pygments_lexer": "ipython3",
   "version": "3.12.7"
  }
 },
 "nbformat": 4,
 "nbformat_minor": 5
}
